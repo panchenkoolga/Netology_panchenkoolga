{
 "cells": [
  {
   "cell_type": "markdown",
   "metadata": {},
   "source": [
    "### Задание 1###\n",
    "Даны 2 переменных, в которых хранятся строки произвольной длины: phrase_1 и phrase_2.\n",
    "\n",
    "Напишите код, который проверяет какая из этих строк длиннее.\n",
    "\n",
    "Примеры работы программы:\n",
    "\n",
    "phrase_1 = 'Насколько проще было бы писать программы, если бы не заказчики’\n",
    "\n",
    "phrase_2 = '640Кб должно хватить для любых задач. Билл Гейтс (по легенде)'\n",
    "\n",
    "Результат:\n",
    "\n",
    "Фраза 1 длиннее фразы 2"
   ]
  },
  {
   "cell_type": "code",
   "execution_count": 19,
   "metadata": {},
   "outputs": [
    {
     "name": "stdout",
     "output_type": "stream",
     "text": [
      "фраза 2 длиннее фразы 1\n"
     ]
    }
   ],
   "source": [
    "phrase_1 = 'мама мыла раму'\n",
    "phrase_2 = 'мама мыла белую раму'\n",
    "if len(phrase_1) > len(phrase_2):\n",
    "    print('фраза 1 длиннее фразы 2')\n",
    "else:\n",
    "    print('фраза 2 длиннее фразы 1')"
   ]
  },
  {
   "cell_type": "markdown",
   "metadata": {},
   "source": [
    "### Задание 2 ###\n",
    "Дана переменная, в которой хранится четырехзначное число (год). Необходимо написать программу, которая выведет, является ли данный год високосным или обычным.\n",
    "\n",
    "Пример работы программы:\n",
    "\n",
    "year = 2020\n",
    "Результат:\n",
    "Високосный год\n",
    "\n",
    "year = 2019\n",
    "Результат:\n",
    "Обычный год"
   ]
  },
  {
   "cell_type": "code",
   "execution_count": 20,
   "metadata": {},
   "outputs": [
    {
     "name": "stdout",
     "output_type": "stream",
     "text": [
      "не високосный\n"
     ]
    }
   ],
   "source": [
    "\"\"\"\"Если год делится на 4 без остатка и не делится без остатка на 100 или \n",
    "Если год делится на 4 без остатка и делится без остатка на 100 и 400, \n",
    "то год високосный.\n",
    "Иначе год не високосный.\n",
    "(Пример: 1900 - не високосный год. делится на 4, делится на 100, но не делится на 400)\"\"\"\n",
    "\n",
    "\n",
    "year = 2401\n",
    "if year % 4 == 0 and year % 100 != 0:\n",
    "    print('високосный')\n",
    "elif year % 4 == 0 and year % 100 == 0 and year % 400 == 0:\n",
    "    print('високосный')\n",
    "else:\n",
    "    print('не високосный')"
   ]
  },
  {
   "cell_type": "markdown",
   "metadata": {},
   "source": [
    "### Задание 3###\n",
    "\n",
    "Необходимо написать программу, которая будет запрашивать у пользователя месяц и дату рождения и выводить соответствующий знак зодиака."
   ]
  },
  {
   "cell_type": "code",
   "execution_count": 21,
   "metadata": {},
   "outputs": [
    {
     "name": "stdout",
     "output_type": "stream",
     "text": [
      "введите день:15\n",
      "введите месяц:май\n",
      "Телец\n"
     ]
    }
   ],
   "source": [
    "user_input_1 = int(input('введите день:'))\n",
    "user_input_2 = str(input('введите месяц:'))\n",
    "if  user_input_2 == 'март' and user_input_1 > 21 or user_input_2 == 'апрель' and user_input_1 < 20:\n",
    "    print('Овен')\n",
    "if  user_input_2 == 'апрель' and user_input_1 > 20 or user_input_2 == 'май' and user_input_1 < 21:\n",
    "    print('Телец')\n",
    "if  user_input_2 == 'май' and user_input_1 > 20 or user_input_2 == 'июнь' and user_input_1 < 22:\n",
    "    print('Близнецы')\n",
    "if  user_input_2 == 'июнь' and user_input_1 > 21 or user_input_2 == 'июль' and user_input_1 < 23:\n",
    "    print('Рак')\n",
    "if  user_input_2 == 'июль' and user_input_1 > 22 or user_input_2 == 'август' and user_input_1 < 24:\n",
    "    print('Лев')\n",
    "if  user_input_2 == 'август' and user_input_1 > 23 or user_input_2 == 'сентябрь' and user_input_1 < 24:\n",
    "    print('Дева')\n",
    "if  user_input_2 == 'сентябрь' and user_input_1 > 23 or user_input_2 == 'октябрь' and user_input_1 < 24:\n",
    "    print('Весы')\n",
    "if  user_input_2 == 'октябрь' and user_input_1 > 23 or user_input_2 == 'ноябрь' and user_input_1 < 23:\n",
    "    print('Скорпион')\n",
    "if  user_input_2 == 'ноябрь' and user_input_1 > 22 or user_input_2 == 'декабрь' and user_input_1 < 22:\n",
    "    print('Стрелец')\n",
    "if  user_input_2 == 'декабрь' and user_input_1 > 21 or user_input_2 == 'январь' and user_input_1 < 21:\n",
    "    print('Козерог')\n",
    "if  user_input_2 == 'январь' and user_input_1 > 20 or user_input_2 == 'февраль' and user_input_1 < 19:\n",
    "    print('Водолей')\n",
    "if  user_input_2 == 'февраль' and user_input_1 > 18 or user_input_2 == 'март' and user_input_1 < 20:\n",
    "    print('Рыбы')"
   ]
  },
  {
   "cell_type": "markdown",
   "metadata": {},
   "source": [
    "### Задание 4\n",
    "Вам нужно написать программу для подбора упаковок по размерам товара. Размеры хранятся в переменных (в сантиметрах):\n",
    "\n",
    "width = 10\n",
    "length = 205\n",
    "height = 5\n",
    "Используйте следующие правила:\n",
    "\n",
    "если каждое из трех измерений менее 15 сантиметров, то выведите на экран “Коробка №1”;\n",
    "если хотя бы одно из измерений больше 15 сантиметров, но менее 50 сантиметров, то выводите “Коробка №2”;\n",
    "если длина товара больше 2 метров, то выводите “Упаковка для лыж”;\n",
    "во всех остальных случаях выводите “Стандартная коробка №3”."
   ]
  },
  {
   "cell_type": "code",
   "execution_count": 37,
   "metadata": {},
   "outputs": [
    {
     "name": "stdout",
     "output_type": "stream",
     "text": [
      "Коробка №2\n"
     ]
    }
   ],
   "source": [
    "width = 30\n",
    "length = 10\n",
    "height = 500\n",
    "if width <15 and length <15 and height<15:\n",
    "    print('Коробка №1')\n",
    "elif ((width>15 and width<50) or (length>15 and length <50) or (height>15 and height<50)):\n",
    "    print('Коробка №2')\n",
    "elif length>200:\n",
    "    print('Упаковка для лыж')\n",
    "else:\n",
    "    print('Стандартная коробка №3')"
   ]
  },
  {
   "cell_type": "markdown",
   "metadata": {},
   "source": [
    "### Задание 5 (необязательное)\n",
    "Дана переменная, в которой хранится шестизначное число (номер проездного билета). Напишите программу, которая будет определять, является ли данный билет “счастливым”. Билет считается счастливым, если сумма первых трех цифр совпадает с суммой последних трех цифр номера.\n",
    "\n",
    "Примеры работы программы:\n",
    "\n",
    "number = 123456\n",
    "Результат:\n",
    "Неасчастливый билет\n",
    "\n",
    "number = 123321\n",
    "Результат:\n",
    "Счастливый билет"
   ]
  },
  {
   "cell_type": "code",
   "execution_count": 9,
   "metadata": {},
   "outputs": [
    {
     "name": "stdout",
     "output_type": "stream",
     "text": [
      "Несчастливый билет\n"
     ]
    }
   ],
   "source": [
    "number = 674452\n",
    "x = str(number)\n",
    "y = x[0:3]\n",
    "z = x[3:7]\n",
    "if y==z:\n",
    "    print('Счастливый билет')\n",
    "else:\n",
    "    print('Несчастливый билет')"
   ]
  },
  {
   "cell_type": "markdown",
   "metadata": {},
   "source": [
    "### Задание 6 (необязательное)\n",
    "Напишите программу, которая сможет вычислять площади трех фигур (круг, треугольник и прямоугольник). Тип фигуры запрашиваем через пользовательский ввод, после чего делаем запрос характеристик фигуры:\n",
    "\n",
    "если пользователь выбрал круг, запрашиваем его радиус,\n",
    "если треугольник – длины трех его сторон;\n",
    "если прямоугольник – длины двух его сторон.\n",
    "Пример работы программы:\n",
    "\n",
    "Введите тип фигуры:\n",
    "Круг\n",
    "\n",
    "Введите радиус круга:\n",
    "10\n",
    "Результат:\n",
    "Площадь круга: 314.16\n",
    "\n",
    "Введите тип фигуры:\n",
    "Треугольник\n",
    "\n",
    "Введите длину стороны A:\n",
    "2\n",
    "\n",
    "Введите длину стороны B:\n",
    "2\n",
    "\n",
    "Введите длину стороны C:\n",
    "3\n",
    "Результат:\n",
    "Площадь треугольника: 1.98"
   ]
  },
  {
   "cell_type": "code",
   "execution_count": 8,
   "metadata": {},
   "outputs": [
    {
     "name": "stdout",
     "output_type": "stream",
     "text": [
      "введите тип фигуры:прямоугольник\n",
      "введите длину стороны A:10\n",
      "введите длину стороны B:40\n",
      "Площадь прямоугольника= 400\n"
     ]
    }
   ],
   "source": [
    "user_input = str(input('введите тип фигуры:'))\n",
    "if user_input == 'круг':\n",
    "    R = int(input('введите радиус круга:'))\n",
    "    print('Площадь круга=', 3.14*R**2)\n",
    "elif user_input == 'треугольник':\n",
    "    A = int(input('введите длину стороны A:'))\n",
    "    B = int(input('введите длину стороны B:'))\n",
    "    C = int(input('введите длину стороны C:'))\n",
    "    p = (A + B + C)/2\n",
    "    x = p*(p-A)*(p-B)*(p-C)\n",
    "    import math\n",
    "    print('Площадь треугольника=', math.sqrt(x))\n",
    "elif user_input == 'прямоугольник':\n",
    "    A = int(input('введите длину стороны A:'))\n",
    "    B = int(input('введите длину стороны B:'))\n",
    "    print('Площадь прямоугольника=', A*B)"
   ]
  }
 ],
 "metadata": {
  "kernelspec": {
   "display_name": "Python 3",
   "language": "python",
   "name": "python3"
  },
  "language_info": {
   "codemirror_mode": {
    "name": "ipython",
    "version": 3
   },
   "file_extension": ".py",
   "mimetype": "text/x-python",
   "name": "python",
   "nbconvert_exporter": "python",
   "pygments_lexer": "ipython3",
   "version": "3.8.3"
  }
 },
 "nbformat": 4,
 "nbformat_minor": 4
}
