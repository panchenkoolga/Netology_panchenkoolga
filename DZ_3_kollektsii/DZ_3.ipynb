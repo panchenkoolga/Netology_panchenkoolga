{
 "cells": [
  {
   "cell_type": "markdown",
   "metadata": {},
   "source": [
    "### Задание 1\n",
    "Дана переменная, в которой хранится слово из латинских букв. Напишите код, который выводит на экран:\n",
    "\n",
    "среднюю букву, если число букв в слове нечетное;\n",
    "две средних буквы, если число букв четное."
   ]
  },
  {
   "cell_type": "code",
   "execution_count": 8,
   "metadata": {},
   "outputs": [
    {
     "name": "stdout",
     "output_type": "stream",
     "text": [
      "t\n"
     ]
    }
   ],
   "source": [
    "a = 'weather'\n",
    "if len(a)%2 != 0:\n",
    "    x = len(a)//2\n",
    "    print(a[x])\n",
    "if len(a)%2 == 0:\n",
    "    x = len(a)//2\n",
    "    print(a[x-1:x+1])"
   ]
  },
  {
   "cell_type": "markdown",
   "metadata": {},
   "source": [
    "### Задание 2\n",
    "Напишите программу, которая последовательно запрашивает у пользователя числа (по одному за раз) и после первого нуля выводит сумму всех ранее введенных чисел."
   ]
  },
  {
   "cell_type": "code",
   "execution_count": 10,
   "metadata": {},
   "outputs": [
    {
     "name": "stdout",
     "output_type": "stream",
     "text": [
      "введите число:10\n",
      "введите число:20\n",
      "введите число:50\n",
      "введите число:0\n",
      "80\n"
     ]
    }
   ],
   "source": [
    "user_input = int(input('введите число:'))\n",
    "x = user_input\n",
    "while user_input !=0:\n",
    "    user_input = int(input('введите число:'))\n",
    "    x = x + user_input\n",
    "print(x)"
   ]
  },
  {
   "cell_type": "markdown",
   "metadata": {},
   "source": [
    "### Задание 3\n",
    "Мы делаем MVP dating-сервиса, и у нас есть список парней и девушек.\n",
    "Выдвигаем гипотезу: лучшие рекомендации мы получим, если просто отсортируем имена по алфавиту и познакомим людей с одинаковыми индексами после сортировки! Но мы не будем никого знакомить, если кто-то может остаться без пары:\n",
    "Примеры работы программы:\n",
    "\n",
    "boys = [‘Peter’, ‘Alex’, ‘John’, ‘Arthur’, ‘Richard’]\n",
    "girls = [‘Kate’, ‘Liza’, ‘Kira’, ‘Emma’, ‘Trisha’]\n",
    "\n",
    "Результат:\n",
    "\n",
    "Идеальные пары:\n",
    "\n",
    "Alex и Emma\n",
    "\n",
    "Arthur и Kate\n",
    "\n",
    "John и Kira\n",
    "\n",
    "Peter и Liza\n",
    "\n",
    "Richard и Trisha\n",
    "\n",
    "\n",
    "boys = [‘Peter’, ‘Alex’, ‘John’, ‘Arthur’, ‘Richard’, ‘Michael’]\n",
    "girls = [‘Kate’, ‘Liza’, ‘Kira’, ‘Emma’, ‘Trisha’]\n",
    "\n",
    "Результат:\n",
    "\n",
    "Внимание, кто-то может остаться без пары!"
   ]
  },
  {
   "cell_type": "code",
   "execution_count": 7,
   "metadata": {},
   "outputs": [
    {
     "name": "stdout",
     "output_type": "stream",
     "text": [
      "Боря и Вера\n",
      "Максим и Катя\n",
      "Никита и Маша\n",
      "Петя и Света\n",
      "Федя и Яна\n"
     ]
    }
   ],
   "source": [
    "boys = ['Петя', 'Боря', 'Никита', 'Федя', 'Максим']\n",
    "girls = ['Катя', 'Яна',  'Маша', 'Света', 'Вера']\n",
    "if len(boys) == len(girls):\n",
    "    import copy\n",
    "    boys_2=copy.copy(sorted(boys))\n",
    "    girls_2=copy.copy(sorted(girls))\n",
    "    x=-1\n",
    "    while x != len(boys)-1:\n",
    "        x=x+1\n",
    "        print(boys_2[x], 'и', girls_2[x])\n",
    "else:\n",
    "    print('Внимание, кто-то может остаться без пары!')"
   ]
  },
  {
   "cell_type": "code",
   "execution_count": 9,
   "metadata": {},
   "outputs": [
    {
     "name": "stdout",
     "output_type": "stream",
     "text": [
      "Идеальные пары: [('Боря', 'Вера'), ('Максим', 'Катя'), ('Никита', 'Маша'), ('Петя', 'Света'), ('Федя', 'Яна')]\n"
     ]
    }
   ],
   "source": [
    "#Ещё вариант\n",
    "boys = ['Петя', 'Боря', 'Никита', 'Федя', 'Максим']\n",
    "girls = ['Катя', 'Яна',  'Маша', 'Света', 'Вера']\n",
    "if len(boys) == len(girls):\n",
    "    couples = zip (sorted(boys), sorted(girls))\n",
    "    print('Идеальные пары:', list(couples))\n",
    "else:\n",
    "    print('Внимание, кто-то может остаться без пары!')"
   ]
  },
  {
   "cell_type": "markdown",
   "metadata": {},
   "source": [
    "### Задание 4\n",
    "У нас есть список, содержащий информацию о среднедневной температуре в Фаренгейтах за произвольный период по странам (структура данных в примере). Необходимо написать код, который рассчитает среднюю температуру за период в Цельсиях(!) для каждой страны.\n",
    "\n",
    "Пример работы программы:\n",
    "\n",
    "countries_temperature = [\n",
    "\n",
    "[‘Thailand’, [75.2, 77, 78.8, 73.4, 68, 75.2, 77]],\n",
    "\n",
    "[‘Germany’, [57.2, 55.4, 59, 59, 53.6]],\n",
    "\n",
    "[‘Russia’, [35.6, 37.4, 39.2, 41, 42.8, 39.2, 35.6]],\n",
    "\n",
    "[‘Poland’, [50, 50, 53.6, 57.2, 55.4, 55.4]]\n",
    "\n",
    "]\n",
    "\n",
    "Результат:\n",
    "\n",
    "Средняя температура в странах:\n",
    "\n",
    "Thailand - 23.9 С\n",
    "\n",
    "Germany - 13.8 С\n",
    "\n",
    "Russia - 3.7 С\n",
    "\n",
    "Poland - 12.0 С"
   ]
  },
  {
   "cell_type": "code",
   "execution_count": 59,
   "metadata": {},
   "outputs": [
    {
     "name": "stdout",
     "output_type": "stream",
     "text": [
      "Thailand  -  23.9 C\n",
      "Germany  -  13.8 C\n",
      "Russia  -  3.7 C\n",
      "Poland  -  12.0 C\n"
     ]
    }
   ],
   "source": [
    "countries_temperature = [\n",
    "['Thailand', [75.2, 77, 78.8, 73.4, 68, 75.2, 77]],\n",
    "['Germany', [57.2, 55.4, 59, 59, 53.6]],\n",
    "['Russia', [35.6, 37.4, 39.2, 41, 42.8, 39.2, 35.6]],\n",
    "['Poland', [50, 50, 53.6, 57.2, 55.4, 55.4]]\n",
    "]\n",
    "x = -1\n",
    "while x != len(countries_temperature)-1:\n",
    "    x = x+1\n",
    "    a, b = countries_temperature[x]\n",
    "    average_C = round((sum(b)/len(b) - 32)*5/9 ,1)\n",
    "    print(a, ' - ', average_C, 'C')"
   ]
  }
 ],
 "metadata": {
  "kernelspec": {
   "display_name": "Python 3",
   "language": "python",
   "name": "python3"
  },
  "language_info": {
   "codemirror_mode": {
    "name": "ipython",
    "version": 3
   },
   "file_extension": ".py",
   "mimetype": "text/x-python",
   "name": "python",
   "nbconvert_exporter": "python",
   "pygments_lexer": "ipython3",
   "version": "3.8.3"
  }
 },
 "nbformat": 4,
 "nbformat_minor": 4
}
